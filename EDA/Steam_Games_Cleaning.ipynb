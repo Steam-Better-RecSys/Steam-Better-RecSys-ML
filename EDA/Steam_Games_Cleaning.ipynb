{
  "nbformat": 4,
  "nbformat_minor": 0,
  "metadata": {
    "colab": {
      "provenance": []
    },
    "kernelspec": {
      "name": "python3",
      "display_name": "Python 3"
    },
    "language_info": {
      "name": "python"
    }
  },
  "cells": [
    {
      "cell_type": "code",
      "execution_count": 2,
      "metadata": {
        "id": "D1mCozKQOwfb"
      },
      "outputs": [],
      "source": [
        "import pandas as pd\n",
        "import numpy as np"
      ]
    },
    {
      "cell_type": "markdown",
      "source": [
        "Счачиваем данные"
      ],
      "metadata": {
        "id": "KHcWniXOGLmI"
      }
    },
    {
      "cell_type": "code",
      "source": [
        "df = pd.read_csv('https://raw.githubusercontent.com/Steam-Better-RecSys/Steam-Better-RecSys-ML/main/Data/steam_wizzard_data.csv', index_col=0)\n",
        "\n",
        "df.columns"
      ],
      "metadata": {
        "id": "hXIX24zhPXzi",
        "colab": {
          "base_uri": "https://localhost:8080/"
        },
        "outputId": "adf5ec12-89f2-487a-95af-94a1c486fc9a"
      },
      "execution_count": 87,
      "outputs": [
        {
          "output_type": "execute_result",
          "data": {
            "text/plain": [
              "Index(['App ID', 'Title', 'Unfiltered Reviews Total', 'Release Date', 'Tags',\n",
              "       'name_slug', 'Description'],\n",
              "      dtype='object')"
            ]
          },
          "metadata": {},
          "execution_count": 87
        }
      ]
    },
    {
      "cell_type": "markdown",
      "source": [
        "Оставляем только нужные нам данные"
      ],
      "metadata": {
        "id": "d7Drc4bqGPAD"
      }
    },
    {
      "cell_type": "code",
      "source": [
        "df = df.loc[:, ['App ID', 'Tags']]"
      ],
      "metadata": {
        "id": "vd-HsEekGRcj"
      },
      "execution_count": 88,
      "outputs": []
    },
    {
      "cell_type": "markdown",
      "source": [
        "Взрывваем тэги, чтобы с ними было удобнее работать"
      ],
      "metadata": {
        "id": "xw7UCNflMwB0"
      }
    },
    {
      "cell_type": "code",
      "source": [
        "df['Tags'] = df['Tags'].str.split(',')\n",
        "df = df.explode('Tags')\n",
        "df['Tags'] = df['Tags'].apply(lambda x: x.lstrip().rstrip())"
      ],
      "metadata": {
        "id": "UphdP8V9L-VH"
      },
      "execution_count": 89,
      "outputs": []
    },
    {
      "cell_type": "markdown",
      "source": [
        "Стоит обратить внимание, что в тэгах есть `Football (Soccer)` и `Soccer` - их стоит объединить просто в `Soccer`."
      ],
      "metadata": {
        "id": "eVOHxj7hHeT4"
      }
    },
    {
      "cell_type": "code",
      "source": [
        "df.loc[df['Tags'] == 'Football (Soccer)', 'Tags'] = 'Soccer'"
      ],
      "metadata": {
        "id": "JhpmQX_OMTz3"
      },
      "execution_count": 90,
      "outputs": []
    },
    {
      "cell_type": "markdown",
      "source": [
        "Получаем уникальные тэги"
      ],
      "metadata": {
        "id": "wjUyhN0iMb9b"
      }
    },
    {
      "cell_type": "code",
      "source": [
        "tags = df['Tags'].unique()"
      ],
      "metadata": {
        "id": "SAU0HDpWMeHt"
      },
      "execution_count": 91,
      "outputs": []
    },
    {
      "cell_type": "markdown",
      "source": [
        "Обратный взрыв"
      ],
      "metadata": {
        "id": "1rNp-CJgSCLL"
      }
    },
    {
      "cell_type": "code",
      "source": [
        "df = df.groupby(['App ID'])['Tags'].apply(lambda x: (','.join(x)).split(',')).reset_index()"
      ],
      "metadata": {
        "id": "QbB9DuivSBtx"
      },
      "execution_count": 94,
      "outputs": []
    },
    {
      "cell_type": "markdown",
      "source": [
        "Добавляем в df свой столбец на каждый из тэгов"
      ],
      "metadata": {
        "id": "QIFi0vElSFFG"
      }
    },
    {
      "cell_type": "code",
      "source": [
        "for tag in tags:\n",
        "  df[tag] = 0"
      ],
      "metadata": {
        "id": "g6B6ejMCR_1t"
      },
      "execution_count": null,
      "outputs": []
    },
    {
      "cell_type": "markdown",
      "source": [
        "Рассчитываем вес тэга, есть 2 гипотезы:\n",
        "1. чем ближе тэг к начале списка, тем он важнее;\n",
        "2. чем ближе тэг к концу списка, тем он важнее.\n",
        "получается параболическая зависимость веса тэга от его номера (индекса) в списке тэгов"
      ],
      "metadata": {
        "id": "lt8QIqdBNUrn"
      }
    },
    {
      "cell_type": "code",
      "source": [
        "def tag_weight(tags, tag):\n",
        "  if tag in tags:\n",
        "    i = tags.index(tag)\n",
        "    l = len(tags)\n",
        "    if l - i < i:\n",
        "      i = l - i\n",
        "    return max(1 - 0.1 * i, 0.1)\n",
        "  return 0"
      ],
      "metadata": {
        "id": "BgGatcNvDbCG"
      },
      "execution_count": 97,
      "outputs": []
    },
    {
      "cell_type": "code",
      "source": [
        "for tag in tags:\n",
        "  df[tag] = df['Tags'].apply(lambda tags: tag_weight(tags, tag))"
      ],
      "metadata": {
        "id": "THiEyKUZR7SM"
      },
      "execution_count": null,
      "outputs": []
    },
    {
      "cell_type": "markdown",
      "source": [
        "Проверяем"
      ],
      "metadata": {
        "id": "Tlinv_2oTKmq"
      }
    },
    {
      "cell_type": "code",
      "source": [
        "df.loc[df['Moddable'] == 1]"
      ],
      "metadata": {
        "id": "frmFDZ5ra3_f"
      },
      "execution_count": null,
      "outputs": []
    },
    {
      "cell_type": "code",
      "source": [
        "df.loc[df['Moddable'] == 0.9]"
      ],
      "metadata": {
        "id": "Ng-wNgBgTNaE"
      },
      "execution_count": null,
      "outputs": []
    },
    {
      "cell_type": "markdown",
      "source": [
        "Ставим нужный `index`"
      ],
      "metadata": {
        "id": "ZytoJ7mjTUJm"
      }
    },
    {
      "cell_type": "code",
      "source": [
        "df = df.set_index('App ID')"
      ],
      "metadata": {
        "id": "Eaisr4GDTQJl"
      },
      "execution_count": 103,
      "outputs": []
    },
    {
      "cell_type": "markdown",
      "source": [
        "Удаляем колонку `Tags`, так как она не будет использоваться в проде"
      ],
      "metadata": {
        "id": "Z8qAKy-xWnJY"
      }
    },
    {
      "cell_type": "code",
      "source": [
        "df = df.drop(columns=['Tags'])"
      ],
      "metadata": {
        "id": "Lsg0aZtAWgDv"
      },
      "execution_count": 105,
      "outputs": []
    },
    {
      "cell_type": "markdown",
      "source": [
        "Сохраняем данные"
      ],
      "metadata": {
        "id": "K2rA17G8WqeH"
      }
    },
    {
      "cell_type": "code",
      "source": [
        "df.to_csv('steam_wizzard_tags_data.csv')"
      ],
      "metadata": {
        "id": "MGJ-jRf5WJ0n"
      },
      "execution_count": 107,
      "outputs": []
    }
  ]
}